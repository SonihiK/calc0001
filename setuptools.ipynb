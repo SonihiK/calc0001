{
  "nbformat": 4,
  "nbformat_minor": 0,
  "metadata": {
    "colab": {
      "provenance": [],
      "authorship_tag": "ABX9TyP7kb1UtGBKcNT6fHnui4bV",
      "include_colab_link": true
    },
    "kernelspec": {
      "name": "python3",
      "display_name": "Python 3"
    },
    "language_info": {
      "name": "python"
    }
  },
  "cells": [
    {
      "cell_type": "markdown",
      "metadata": {
        "id": "view-in-github",
        "colab_type": "text"
      },
      "source": [
        "<a href=\"https://colab.research.google.com/github/SonihiK/calc0001/blob/main/setuptools.ipynb\" target=\"_parent\"><img src=\"https://colab.research.google.com/assets/colab-badge.svg\" alt=\"Open In Colab\"/></a>"
      ]
    },
    {
      "cell_type": "code",
      "execution_count": null,
      "metadata": {
        "id": "DO--tyqOItKQ",
        "colab": {
          "base_uri": "https://localhost:8080/"
        },
        "outputId": "8427056d-2ec2-4158-c866-2b6f9288550d"
      },
      "outputs": [
        {
          "output_type": "stream",
          "name": "stdout",
          "text": [
            "running bdist_wheel\n",
            "running build\n",
            "running build_py\n",
            "creating build\n",
            "creating build/lib\n",
            "creating build/lib/mycalc\n",
            "copying mycalc/calculator.py -> build/lib/mycalc\n",
            "/usr/local/lib/python3.10/dist-packages/setuptools/_distutils/cmd.py:66: SetuptoolsDeprecationWarning: setup.py install is deprecated.\n",
            "!!\n",
            "\n",
            "        ********************************************************************************\n",
            "        Please avoid running ``setup.py`` directly.\n",
            "        Instead, use pypa/build, pypa/installer, pypa/build or\n",
            "        other standards-based tools.\n",
            "\n",
            "        See https://blog.ganssle.io/articles/2021/10/setup-py-deprecated.html for details.\n",
            "        ********************************************************************************\n",
            "\n",
            "!!\n",
            "  self.initialize_options()\n",
            "installing to build/bdist.linux-x86_64/wheel\n",
            "running install\n",
            "running install_lib\n",
            "creating build/bdist.linux-x86_64\n",
            "creating build/bdist.linux-x86_64/wheel\n",
            "creating build/bdist.linux-x86_64/wheel/mycalc\n",
            "copying build/lib/mycalc/calculator.py -> build/bdist.linux-x86_64/wheel/mycalc\n",
            "running install_egg_info\n",
            "running egg_info\n",
            "creating Sonihi_K.egg-info\n",
            "writing Sonihi_K.egg-info/PKG-INFO\n",
            "writing dependency_links to Sonihi_K.egg-info/dependency_links.txt\n",
            "writing top-level names to Sonihi_K.egg-info/top_level.txt\n",
            "writing manifest file 'Sonihi_K.egg-info/SOURCES.txt'\n",
            "reading manifest file 'Sonihi_K.egg-info/SOURCES.txt'\n",
            "writing manifest file 'Sonihi_K.egg-info/SOURCES.txt'\n",
            "Copying Sonihi_K.egg-info to build/bdist.linux-x86_64/wheel/Sonihi_K-0.0.1-py3.10.egg-info\n",
            "running install_scripts\n",
            "creating build/bdist.linux-x86_64/wheel/Sonihi_K-0.0.1.dist-info/WHEEL\n",
            "creating 'dist/Sonihi_K-0.0.1-py3-none-any.whl' and adding 'build/bdist.linux-x86_64/wheel' to it\n",
            "adding 'mycalc/calculator.py'\n",
            "adding 'Sonihi_K-0.0.1.dist-info/METADATA'\n",
            "adding 'Sonihi_K-0.0.1.dist-info/WHEEL'\n",
            "adding 'Sonihi_K-0.0.1.dist-info/top_level.txt'\n",
            "adding 'Sonihi_K-0.0.1.dist-info/RECORD'\n",
            "removing build/bdist.linux-x86_64/wheel\n"
          ]
        }
      ],
      "source": [
        "!python setup.py bdist_wheel"
      ]
    },
    {
      "cell_type": "code",
      "source": [
        "!twine upload -u __token__ -p [seongji] dist/mycalc"
      ],
      "metadata": {
        "colab": {
          "base_uri": "https://localhost:8080/"
        },
        "id": "BB4d-a3WB2Au",
        "outputId": "066c5584-5e83-4a50-d5f1-3f4b3ad0fb3e"
      },
      "execution_count": null,
      "outputs": [
        {
          "output_type": "stream",
          "name": "stdout",
          "text": [
            "/bin/bash: line 1: twine: command not found\n"
          ]
        }
      ]
    },
    {
      "cell_type": "code",
      "source": [],
      "metadata": {
        "id": "ASOZ3-iGCPdm"
      },
      "execution_count": null,
      "outputs": []
    }
  ]
}